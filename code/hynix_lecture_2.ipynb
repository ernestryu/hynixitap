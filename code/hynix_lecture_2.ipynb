{
 "cells": [
  {
   "cell_type": "markdown",
   "metadata": {},
   "source": [
    "# Duck typing\n",
    "\n",
    "The following function `sum_all` sums numbers of a list."
   ]
  },
  {
   "cell_type": "code",
   "execution_count": null,
   "metadata": {},
   "outputs": [],
   "source": [
    "def sum_all(lst):\n",
    "    ret = None\n",
    "    for elem in lst:\n",
    "        if ret is None:\n",
    "            ret = elem\n",
    "        else:\n",
    "            ret = ret + elem\n",
    "    return ret\n",
    "    \n",
    "    \n",
    "print(sum_all([1,2,3]))"
   ]
  },
  {
   "cell_type": "markdown",
   "metadata": {},
   "source": [
    "But wait, `lst` need not be a list and the elements of `lst` need not be numbers. \"Sums numbers of a list\" does not fully describe the capability of `sum_all`. \n",
    "\n",
    "Really, you can use `sum_all(lst)` if you can iterate through the elements of `lst` with a for loop (i.e., `lst` is an \"iterable\" as we define later) and you can use `+` with the elements of `lst` (i.e., the elements of `lst` are objects with the `__add__` method)."
   ]
  },
  {
   "cell_type": "code",
   "execution_count": null,
   "metadata": {},
   "outputs": [],
   "source": [
    "lst1 = ['Python was named after ', 'the British TV series \"Monty Python.\" ']\n",
    "lst2 = ['The Dutch creator of Python, Guido van Rossum, seems to have a British sense of humor.']\n",
    "print(sum_all(lst1+lst2))  # list of strings\n",
    "\n",
    "c1 = Complex(1,2)\n",
    "c2 = Complex(3,4)\n",
    "c3 = Complex(-5,0)\n",
    "\n",
    "print(sum_all((c1,c2,c3)))   # tuple of Complex"
   ]
  },
  {
   "cell_type": "markdown",
   "metadata": {},
   "source": [
    "In the context of logic (논리학), the following saying describes a form of abductive reasoning:\n",
    "\n",
    "> \"If it looks like a duck, swims like a duck, and quacks like a duck, then it probably is a duck.\"\n",
    "\n",
    "In the context of programming, __duck typing__ refers to the practice of caring about what the object can do, rather than what it is."
   ]
  },
  {
   "cell_type": "markdown",
   "metadata": {},
   "source": [
    "Consider the following implementation of gradient descent for\n",
    "$$\n",
    "\\begin{array}{ll}\n",
    "\\underset{x\\in\\mathbb{R}^n}{\\mbox{minimize}}&\n",
    "\\frac{1}{2}\\|Ax-b\\|^2\n",
    "\\end{array}\n",
    "$$"
   ]
  },
  {
   "cell_type": "code",
   "execution_count": null,
   "metadata": {},
   "outputs": [],
   "source": [
    "#A = m x n matrix\n",
    "b = np.array(m)\n",
    "\n",
    "x = np.zeros(n)\n",
    "for _ in range(10000) :\n",
    "    x = x - alpha*A.T@(huber_grad(A@x-b))"
   ]
  },
  {
   "cell_type": "markdown",
   "metadata": {},
   "source": [
    "What must `A` be able to __do__? (Note, we are not asking what `A` __is__.)\n",
    "\n",
    "- `A` must have `__matmul__(self, np_vector)` must be implemented so that `A@x` with a numpy vector `x` is allowed.\n",
    "- `A` must have instance variable `T` so that `A.T` is allowed.\n",
    "\n",
    "There are cases where you can implement matrix-vector multiplication with $A$ and $A^T$, but forming the $m\\times n$ matrix is inefficient (e.g. sparse matrix, FFT, and convolution). In these cases, you can provide objects supporting matrix-vector products without directly forming the full numpy matrix."
   ]
  },
  {
   "cell_type": "markdown",
   "metadata": {},
   "source": [
    "Duck typing is Pythonic. In strongly typed languages like C++ and Java, duck typing is mostly impossible, and you are required to use inheritance or function pointers to achieve similar effects."
   ]
  },
  {
   "cell_type": "code",
   "execution_count": null,
   "metadata": {},
   "outputs": [],
   "source": [
    "import numpy as np\n",
    "\n",
    "'''\n",
    "1D convolution operator problem starter code\n",
    "@author: Ji Sun Park and Ernest K. Ryu\n",
    "'''\n",
    "\n",
    "class Convolution1d :\n",
    "    \n",
    "    ''' Inite object with filter'''\n",
    "    def __init__(self, filt) :\n",
    "        self.__filt = filt\n",
    "        self.__r = filt.size\n",
    "        self.T = TransposedConvolution1d(self.__filt)\n",
    "\n",
    "    '''\n",
    "    Convolution operation\n",
    "        Usage : self @ vector\n",
    "    '''\n",
    "    def __matmul__(self, vector) :\n",
    "        r, n = self.__r, vector.size\n",
    "        \n",
    "        return np.asarray([sum(self.__filt * vector[j:j+r]) for j in range(n-r+1)])\n",
    "    \n",
    "'''\n",
    "Transpose of 1-dimensional convolution operator used for the \n",
    "transpose-convolution operation A.T@(...)\n",
    "'''\n",
    "class TransposedConvolution1d :\n",
    "    \n",
    "    ''' Init TransposedConvolution1d object with filter '''\n",
    "    def __init__(self, filt) :\n",
    "        self.__filt = filt\n",
    "        self.__r = filt.size\n",
    "\n",
    "    '''\n",
    "    Convolution operation\n",
    "        Usage : A @ vector\n",
    "    '''\n",
    "    def __matmul__(self, vector) :\n",
    "        r = self.__r\n",
    "        n = vector.size + r - 1\n",
    "\n",
    "        return np.asarray([sum(np.flip(self.__filt)[max(0,r-j-1):min(n-j,r)] * vector[max(0,j-r+1):min(j+1,n-r+1)]) for j in range(n)])\n",
    "\n",
    "\n",
    "\n",
    "\n",
    "# Test Code\n",
    "def huber_loss(x) :\n",
    "    return np.sum( (1/2)*(x**2)*(np.abs(x)<=1) + (np.sign(x)*x-1/2)*(np.abs(x)>1) )\n",
    "def huber_grad(x) :\n",
    "    return x*(np.abs(x)<=1) + np.sign(x)*(np.abs(x)>1)\n",
    "\n",
    "\n",
    "r, n, lam = 3, 20, 0.1\n",
    "\n",
    "np.random.seed(0)\n",
    "k = np.random.randn(r)\n",
    "b = np.random.randn(n-r+1)\n",
    "A = Convolution1d(k)\n",
    "from scipy.linalg import circulant\n",
    "A = circulant(np.concatenate((np.flip(k),np.zeros(n-r))))[2:,:]\n",
    "\n",
    "\n",
    "x = np.zeros(n)\n",
    "alpha = 0.01\n",
    "for _ in range(100) :\n",
    "    x = x - alpha*(A.T@(huber_grad(A@x-b))+lam*x)\n",
    "\n",
    "print(huber_loss(A@x-b)+0.5*np.linalg.norm(x*x)**2)"
   ]
  }
 ],
 "metadata": {
  "kernelspec": {
   "display_name": "Python 3",
   "language": "python",
   "name": "python3"
  },
  "language_info": {
   "codemirror_mode": {
    "name": "ipython",
    "version": 3
   },
   "file_extension": ".py",
   "mimetype": "text/x-python",
   "name": "python",
   "nbconvert_exporter": "python",
   "pygments_lexer": "ipython3",
   "version": "3.7.6"
  }
 },
 "nbformat": 4,
 "nbformat_minor": 4
}
